{
  "nbformat": 4,
  "nbformat_minor": 0,
  "metadata": {
    "colab": {
      "name": "Task_9.ipynb",
      "provenance": [],
      "collapsed_sections": []
    },
    "kernelspec": {
      "name": "python3",
      "display_name": "Python 3"
    }
  },
  "cells": [
    {
      "cell_type": "code",
      "metadata": {
        "id": "h0np0pUHzevl",
        "colab_type": "code",
        "colab": {}
      },
      "source": [
        "import numpy as np\n",
        "from numpy import random\n",
        "from scipy import linalg\n",
        "import matplotlib.pyplot as plt\n",
        "%matplotlib inline"
      ],
      "execution_count": 0,
      "outputs": []
    },
    {
      "cell_type": "markdown",
      "metadata": {
        "id": "nY7WRxwJ04cJ",
        "colab_type": "text"
      },
      "source": [
        "# **Изучение зависимости роста числа обусловленности случайной матрицы от ее порядка**\n",
        "\n",
        "Для начала создадим функцию, вычисляющую манхеттенское число обусловленности матрицы:"
      ]
    },
    {
      "cell_type": "code",
      "metadata": {
        "id": "BpD8PGT-3jav",
        "colab_type": "code",
        "colab": {}
      },
      "source": [
        "def cond(A):\n",
        "    return linalg.norm(A, 1)*linalg.norm(linalg.inv(A), 1)"
      ],
      "execution_count": 0,
      "outputs": []
    },
    {
      "cell_type": "markdown",
      "metadata": {
        "id": "6cnG3ZPAYU5s",
        "colab_type": "text"
      },
      "source": [
        "Будем генерировать матрицы порядков от 1 до ```max```."
      ]
    },
    {
      "cell_type": "code",
      "metadata": {
        "id": "VjYucR9SYXSh",
        "colab_type": "code",
        "colab": {}
      },
      "source": [
        "max=100\n",
        "n_vector = np.arange(1, max+1)"
      ],
      "execution_count": 0,
      "outputs": []
    },
    {
      "cell_type": "markdown",
      "metadata": {
        "id": "sWWf079-NAij",
        "colab_type": "text"
      },
      "source": [
        "Построим график зависимости числа обусловленности от порядка матрицы со случайными элементами, распределенными по нормальному закону с математическим ожиданием 0 и средним квадратическим отклонением 1."
      ]
    },
    {
      "cell_type": "code",
      "metadata": {
        "id": "mC9fe7ZR910U",
        "colab_type": "code",
        "outputId": "3eb8189a-80c2-4b2f-e33b-bd2257256cec",
        "colab": {
          "base_uri": "https://localhost:8080/",
          "height": 299
        }
      },
      "source": [
        "cond_array = []\n",
        "for n in n_vector:\n",
        "  A=random.randn(n,n)\n",
        "  cond_array.append(cond(A))\n",
        "plt.title(\"Condition numbers\")\n",
        "plt.xlabel(\"Matrix sizes\")\n",
        "plt.loglog(n_vector,cond_array,'.')\n",
        "pass\n"
      ],
      "execution_count": 5,
      "outputs": [
        {
          "output_type": "display_data",
          "data": {
            "image/png": "[encoded data removed]",
            "text/plain": [
              "<Figure size 432x288 with 1 Axes>"
            ]
          },
          "metadata": {
            "tags": [],
            "needs_background": "light"
          }
        }
      ]
    },
    {
      "cell_type": "markdown",
      "metadata": {
        "id": "q7RFvUyzOHsP",
        "colab_type": "text"
      },
      "source": [
        "По графику видно, что большинство точек как бы лежат между двумя прямыми. Так как используем двойную логарифмическую шкалу, прямые являются графиками показательных функций от $n$. То есть, в среднем, $cond_1A_n$ растет как показательная функция от $n$. Подберем такие $ c_1, c_2, p, $ что для большинства матриц $$c_1n^p \\le cond_1A_n \\le c_2n^p $$\n",
        "Коэффициенты $c_1$ и $c_2$ отвечают за смещение прямых вдоль оси ординат. Коэффициент $p$ - за угол наклона."
      ]
    },
    {
      "cell_type": "code",
      "metadata": {
        "id": "7SY6QK5b_iiH",
        "colab_type": "code",
        "outputId": "4beef465-da5d-4ac2-d119-5b34b8802a41",
        "colab": {
          "base_uri": "https://localhost:8080/",
          "height": 299
        }
      },
      "source": [
        "c1=5\n",
        "c2=0.2\n",
        "p=1.8\n",
        "l1=c1*(n_vector**p)\n",
        "l2=c2*(n_vector**p)\n",
        "cond_array = []\n",
        "for n in n_vector:\n",
        "  A=random.randn(n,n)\n",
        "  cond_array.append(cond(A))\n",
        "plt.title(\"Condition numbers\")\n",
        "plt.xlabel(\"Matrix sizes\")\n",
        "plt.loglog(n_vector,cond_array,'.')\n",
        "plt.loglog(n_vector,l1)\n",
        "plt.loglog(n_vector,l2)\n",
        "pass"
      ],
      "execution_count": 12,
      "outputs": [
        {
          "output_type": "display_data",
          "data": {
            "image/png": "[encoded data removed]",
            "text/plain": [
              "<Figure size 432x288 with 1 Axes>"
            ]
          },
          "metadata": {
            "tags": [],
            "needs_background": "light"
          }
        }
      ]
    },
    {
      "cell_type": "markdown",
      "metadata": {
        "id": "t7G5PcXTHwTT",
        "colab_type": "text"
      },
      "source": [
        "# Выводы\n",
        "Экспериментально мы выяснили, что в среднем $cond_1A_n$ растет как показательная функция от n.\n",
        "\n",
        "Если установить значения параметров $c_1$ и $c_2$ = 1, прямые будут проходить примерно через центр скопления. Следовательно, в среднем, $cond_1A_n$ растет как функция $n^2$ ($p$=1.8). Итоговые значения параметров $c_1$ и $c_2$ соответственно в $k$ раз больше и меньше 1, где $k$ = 5."
      ]
    }
  ]
}