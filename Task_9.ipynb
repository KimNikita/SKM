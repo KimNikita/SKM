{
  "nbformat": 4,
  "nbformat_minor": 0,
  "metadata": {
    "colab": {
      "name": "Task_9.ipynb",
      "provenance": [],
      "collapsed_sections": []
    },
    "kernelspec": {
      "name": "python3",
      "display_name": "Python 3"
    }
  },
  "cells": [
    {
      "cell_type": "code",
      "metadata": {
        "id": "h0np0pUHzevl",
        "colab_type": "code",
        "colab": {}
      },
      "source": [
        "import numpy as np\n",
        "from numpy import random\n",
        "from scipy import linalg\n",
        "import matplotlib.pyplot as plt\n",
        "%matplotlib inline"
      ],
      "execution_count": 0,
      "outputs": []
    },
    {
      "cell_type": "markdown",
      "metadata": {
        "id": "nY7WRxwJ04cJ",
        "colab_type": "text"
      },
      "source": [
        "# **Изучение динамики роста числа обусловленности случайной матрицы от ее порядка**\n",
        "\n",
        "Для начала создадим функцию, вычисляющую манхеттенское число обусловленности матрицы"
      ]
    },
    {
      "cell_type": "code",
      "metadata": {
        "id": "BpD8PGT-3jav",
        "colab_type": "code",
        "colab": {}
      },
      "source": [
        "def cond(A):\n",
        "    return linalg.norm(A, 1)*linalg.norm(linalg.inv(A), 1)"
      ],
      "execution_count": 0,
      "outputs": []
    },
    {
      "cell_type": "markdown",
      "metadata": {
        "id": "sWWf079-NAij",
        "colab_type": "text"
      },
      "source": [
        "Построим график зависимости числа обусловленности от порядка матрицы"
      ]
    },
    {
      "cell_type": "code",
      "metadata": {
        "id": "mC9fe7ZR910U",
        "colab_type": "code",
        "colab": {
          "base_uri": "https://localhost:8080/",
          "height": 299
        },
        "outputId": "14b22481-9231-46c6-bb72-474a09a23fe6"
      },
      "source": [
        "n_vector = np.arange(1, 101)\n",
        "cond_array = []\n",
        "for n in n_vector:\n",
        "  A=random.randn(n,n)\n",
        "  cond_array.append(cond(A))\n",
        "plt.loglog(n_vector,cond_array,'.')\n",
        "plt.title(\"Condition numbers\")\n",
        "plt.xlabel(\"Matrix sizes\")\n",
        "pass"
      ],
      "execution_count": 58,
      "outputs": [
        {
          "output_type": "display_data",
          "data": {
            "image/png": "[encoded data removed]",
            "text/plain": [
              "<Figure size 432x288 with 1 Axes>"
            ]
          },
          "metadata": {
            "tags": [],
            "needs_background": "light"
          }
        }
      ]
    },
    {
      "cell_type": "markdown",
      "metadata": {
        "id": "q7RFvUyzOHsP",
        "colab_type": "text"
      },
      "source": [
        ""
      ]
    }
  ]
}